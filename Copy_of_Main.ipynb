{
  "nbformat": 4,
  "nbformat_minor": 0,
  "metadata": {
    "colab": {
      "provenance": [],
      "authorship_tag": "ABX9TyPBUde/PmCS1V6WWEq4Oz+M",
      "include_colab_link": true
    },
    "kernelspec": {
      "name": "python3",
      "display_name": "Python 3"
    },
    "language_info": {
      "name": "python"
    }
  },
  "cells": [
    {
      "cell_type": "markdown",
      "metadata": {
        "id": "view-in-github",
        "colab_type": "text"
      },
      "source": [
        "<a href=\"https://colab.research.google.com/github/Amrithdev-06/Prediction-customer-churn/blob/main/Copy_of_Main.ipynb\" target=\"_parent\"><img src=\"https://colab.research.google.com/assets/colab-badge.svg\" alt=\"Open In Colab\"/></a>"
      ]
    },
    {
      "cell_type": "code",
      "source": [
        "# Customer Churn Prediction using Machine Learning\n",
        "import pandas as pd\n",
        "import numpy as np\n",
        "from sklearn.model_selection import train_test_split\n",
        "from sklearn.preprocessing import LabelEncoder, StandardScaler\n",
        "from sklearn.linear_model import LogisticRegression\n",
        "from sklearn.ensemble import RandomForestClassifier\n",
        "from sklearn.metrics import accuracy_score, confusion_matrix, classification_report,\n",
        "roc_auc_score\n",
        "# Load dataset (replace with actual path if local)\n",
        "url = ('https://raw.githubusercontent.com/blastchar/telco-churn/master/'\n",
        "       'WA_Fn-UseC_-Telco-Customer-Churn.csv')\n",
        "df = pd.read_csv(url)\n",
        "# Drop customerID\n",
        "df.drop('customerID', axis=1, inplace=True)\n",
        "# Convert TotalCharges to numeric\n",
        "df['TotalCharges'] = pd.to_numeric(df['TotalCharges'], errors='coerce')\n",
        "df.dropna(inplace=True)\n",
        "# Encode binary columns\n",
        "binary_cols = ['gender', 'Partner', 'Dependents', 'PhoneService', 'PaperlessBilling',\n",
        "'Churn']\n",
        "for col in binary_cols:\n",
        " df[col] = LabelEncoder().fit_transform(df[col])\n",
        "# One-hot encode categorical features\n",
        "df = pd.get_dummies(df, drop_first=True)\n",
        "# Features and labels\n",
        "X = df.drop('Churn', axis=1)\n",
        "y = df['Churn']\n",
        "# Train-test split\n",
        "X_train, X_test, y_train, y_test = train_test_split(X, y, test_size=0.2,\n",
        "random_state=42)\n",
        "# Feature scaling\n",
        "scaler = StandardScaler()\n",
        "X_train = scaler.fit_transform(X_train)\n",
        "X_test = scaler.transform(X_test)\n",
        "# Logistic Regression\n",
        "log_model = LogisticRegression(max_iter=1000)\n",
        "log_model.fit(X_train, y_train)\n",
        "log_preds = log_model.predict(X_test)\n",
        "# Random Forest\n",
        "rf_model = RandomForestClassifier(n_estimators=100, random_state=42)\n",
        "rf_model.fit(X_train, y_train)\n",
        "rf_preds = rf_model.predict(X_test)\n",
        "# Evaluation\n",
        "print(\"Logistic Regression Accuracy:\", accuracy_score(y_test, log_preds))\n",
        "print(\"Random Forest Accuracy:\", accuracy_score(y_test, rf_preds))\n",
        "print(\"\\nConfusion Matrix (Random Forest):\\n\", confusion_matrix(y_test, rf_preds))\n",
        "print(\"\\nClassification Report (Random Forest):\\n\", classification_report(y_test,\n",
        "rf_preds))\n",
        "print(\"ROC AUC (Random Forest):\", roc_auc_score(y_test,\n",
        "rf_model.predict_proba(X_test)"
      ],
      "metadata": {
        "id": "lfVAzZrtoEIh"
      },
      "execution_count": null,
      "outputs": []
    }
  ]
}